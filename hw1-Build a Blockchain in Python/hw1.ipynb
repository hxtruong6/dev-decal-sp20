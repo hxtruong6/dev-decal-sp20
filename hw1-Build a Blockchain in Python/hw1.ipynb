{
 "cells": [
  {
   "cell_type": "markdown",
   "metadata": {},
   "source": [
    "# Build a Blockchain! - Blockchain Design Exercises"
   ]
  },
  {
   "cell_type": "markdown",
   "metadata": {},
   "source": [
    "## HW1 - Build a Blockchain in Python\n",
    "\n",
    "#### Getting Started\n",
    "\n",
    "CS 198-077 Spring 2020 \n",
    "HW1-Build a Blockchain in Python\n",
    "\n",
    "Created by Omkar Shanbhag, Updated by Simon Guo\n",
    "\n",
    "This notebook is meant to be a short introduction to Blockchain implementations, aimed at helping us take the topics we learn about in fundamentals, and seeing how they translate to code. \n",
    "\n",
    "In this notebook we will implement various different aspects of Blockchain technology that we understand including: \n",
    "\n",
    "- The Blockchain Data Structure using OOP \n",
    "- A proof of work simulation \n",
    "- Understanding of the concept of difficulty of finding the next block hash \n",
    "- A simulation of multiple miners with varying computational powers \n",
    "- A bit of data analytics to see if what we've implemented makes sense "
   ]
  },
  {
   "cell_type": "code",
   "execution_count": 4,
   "metadata": {},
   "outputs": [],
   "source": [
    "#Import statements\n",
    "import hashlib as hasher \n",
    "import random as rand\n",
    "import time \n",
    "import datetime as date\n",
    "import ipyparallel as ipp\n",
    "import numpy as np\n",
    "import matplotlib.pyplot as plt"
   ]
  },
  {
   "cell_type": "markdown",
   "metadata": {},
   "source": [
    "# Blockchain Data Structure Design"
   ]
  },
  {
   "cell_type": "markdown",
   "metadata": {},
   "source": [
    "In this section we will define the class \"Block\" and create an init function that creates a new block given some parameters, as well as a function hash_block, that computes the hash of this block based on its class variables. \n",
    "\n",
    "The init function is implemented for you below and creates a block with the following specifications \n",
    "- Index --> the index of the block on the chain (zero indexed)\n",
    "- Timestamp --> time that the block was added on to the chain\n",
    "- data --> The data the block contains (Usually points to root of merkel tree, but we can fill it with whatever for this)\n",
    "- previous_hash --> The hash value of the previous block \n",
    "- hash --> hash of this block computed using the hash_block function\n",
    "- nonce --> the variable value that we change to alter the hash output (Default value = 0, irrelevant in this section)\n",
    "\n",
    "****QUESTION #1: Implement hash_block()****\n",
    "\n",
    "We need to implement the hash_block() which computes the hash value of this block based on how we initialize it. This function takes in no parameters. \n",
    "\n",
    "Desired Functionality:\n",
    "- Concatenate string representations of all the class variables \n",
    "- Computes the SHA256 hash of this concatenation \n",
    "\n",
    "-- HINTS --\n",
    "\n",
    "- use the first import statement!!! \n",
    "- initialize a new hasher\n",
    "- Look into the following words \n",
    "    - utf-8 encoding \n",
    "    - .update() function \n",
    "    - .hexdigest() function\n",
    "    - In order for the test function below to work properly, create the string concatenation in the following order with no spaces or any other characters in between \n",
    "       - index\n",
    "       - timestamp\n",
    "       - data\n",
    "       - previous block hash\n",
    "       - nonce\n",
    "     - If you want to do it another order that incorporates everything thats totally fine, but test function wont work!"
   ]
  },
  {
   "cell_type": "markdown",
   "metadata": {},
   "source": []
  },
  {
   "cell_type": "code",
   "execution_count": 5,
   "metadata": {},
   "outputs": [],
   "source": [
    "class Block:\n",
    "    def __init__(self, index, timestamp, data, previous_hash, nonce=0):\n",
    "        self.index = index\n",
    "        self.timestamp = timestamp\n",
    "        self.data = data\n",
    "        self.nonce = nonce #set to zero as default not applicable in first section \n",
    "        self.previous_hash = previous_hash\n",
    "        self.hash = self.hash_block()\n",
    "\n",
    "    def hash_block(self):\n",
    "        #Your code for QUESTION 1 Here \n",
    "        concat_str = f\"{self.index}{self.timestamp}{self.data}{self.previous_hash}{self.nonce}\"\n",
    "        encoded_str = str(concat_str).encode('utf-8')\n",
    "        # print(concat_str, encoded_str)\n",
    "        h = hasher.sha256()\n",
    "        h.update(encoded_str)\n",
    "        return h.hexdigest()"
   ]
  },
  {
   "cell_type": "markdown",
   "metadata": {},
   "source": [
    "**TEST YOUR QUESTION 1 CODE HERE**\n",
    "\n",
    "Run the block of code below"
   ]
  },
  {
   "cell_type": "code",
   "execution_count": 6,
   "metadata": {},
   "outputs": [
    {
     "name": "stdout",
     "output_type": "stream",
     "text": [
      "PASSED!!! Move on to next Question\n"
     ]
    }
   ],
   "source": [
    "def test_question_1(index, time, data, previous_hash):\n",
    "    new_block = Block(index, time, data, previous_hash)\n",
    "    check_string = '2def27922fc1c67254a9cdb0c660b91abf9b135ad38fc13c7c77007448b824a0'\n",
    "    print_statement = \"PASSED!!! Move on to next Question\" if str(new_block.hash) == check_string else \"FAILED!!! Try Again\"\n",
    "    print(print_statement)\n",
    "    \n",
    "time = '2019-10-17 00:37:35.256774'\n",
    "data = 'Machine Learning Blockchain AI'\n",
    "previous_hash = '6ffd1464f68ef4aeb385d399244efa19293ba5c842c464a82c02f8256ef71428'\n",
    "index = 0\n",
    "\n",
    "test_question_1(index, time, data, previous_hash)"
   ]
  },
  {
   "cell_type": "markdown",
   "metadata": {},
   "source": [
    "**Functions for Building the Chain**\n",
    "\n",
    "Now that we have our class Block completed, lets figure out how to make a chain out of them. For a chain, we need to first have a function that creates a genesis block, which serves as the first block of our chain, and then create the function next_block() which builds a new block on top of a given block.\n",
    "\n",
    "create_genesis_block() has been implemented for you. It creates a block with the following specifications. \n",
    "- index = 0\n",
    "- timestamp = Now (whenever the function is being called) \n",
    "- data = \"Genesis Block\"\n",
    "- previous_hash = \"0\"\n",
    "\n",
    "**QUESTION #2: Implement next_block()**\n",
    "\n",
    "We need to implement the function next_block() which takes in 1 parameter:\n",
    "- Last_block = an instance of class Block that is the block that we're building our next block on top of \n",
    "- nonce = Dont do anything with this right now - just pass it in to the Block that you create using the default \n",
    "\n",
    "We want to implement the function so that it returns a new instance of the class Block with the following specifications\n",
    "- index = index of last_block + 1\n",
    "- timestamp = Now (whenever the function is being called)\n",
    "- data = \"Hey! I'm block {index}\"  (for example block w/ index 5 would have data: \"Hey! I'm block 5\")\n",
    "- previous_hash = hash of last_block"
   ]
  },
  {
   "cell_type": "code",
   "execution_count": 7,
   "metadata": {},
   "outputs": [],
   "source": [
    "#Creates the first block with current time and generic data\n",
    "def create_genesis_block():\n",
    "    # Manually construct a block with\n",
    "    # index zero and arbitrary previous hash\n",
    "    return Block(0, date.datetime.now(), \"Genesis Block\", \"0\")\n",
    "\n",
    "#Function that creates the next block, given the last block on the chain you want to mine on\n",
    "def next_block(last_block, nonce=0):\n",
    "    #Your code for QUESTION 2 here\n",
    "    return Block(last_block.index + 1, date.datetime.now(), f\"Hey! I'm block {last_block.index + 1}\", last_block.\n",
    "    hash, nonce)"
   ]
  },
  {
   "cell_type": "markdown",
   "metadata": {},
   "source": [
    "**TEST YOUR QUESTION 2 CODE HERE**\n",
    "\n",
    "Run the block of code below"
   ]
  },
  {
   "cell_type": "code",
   "execution_count": 8,
   "metadata": {},
   "outputs": [
    {
     "name": "stdout",
     "output_type": "stream",
     "text": [
      "PASSED!!! Move on to next part\n"
     ]
    }
   ],
   "source": [
    "def test_question_2(genesis_block):\n",
    "    block_1 = next_block(genesis_block)\n",
    "    if block_1.index == 1 and block_1.data == \"Hey! I'm block 1\" and block_1.previous_hash == genesis_block.hash and str(type(block_1.timestamp)) == \"<class 'datetime.datetime'>\":\n",
    "        print(\"PASSED!!! Move on to next part\" )\n",
    "    else:\n",
    "        print(\"FAILED!!! Try again :(\")\n",
    "    \n",
    "\n",
    "genesis_block = create_genesis_block()\n",
    "test_question_2(genesis_block)"
   ]
  },
  {
   "cell_type": "markdown",
   "metadata": {},
   "source": [
    "**Spinning up a Chain**\n",
    "\n",
    "Now that we've created the data structure as well as the functions needed to create the chain, lets see how spinning up an actual instance of this would work. \n",
    "\n",
    "Below we initialize three different variables \n",
    "- blockchain - this is a python list which we initialize with one block inside (the genesis block) \n",
    "- previous_block - this points to our genesis block (since it references the first element in blockchain)\n",
    "- num_blocks - this specifies the number of additional blocks we want to add to our chain \n",
    "\n",
    "**QUESTION 3 complete_chain()**\n",
    "\n",
    "We want to complete the implementation of the function complete_chain(). This function takes in three inputs, which correspond to the initializations that we made. It returns nothing, however by the time we are done running it, the list 'blockchain' that we initialized earlier has been turned into an array of length num_blocks + 1 in which each element is an instance of class Block and each element's self.previous_hash == the previous element's self.hash. Therefore we have created our own mini blockchain!! \n",
    "\n",
    "The for loop and the print statements of complete_chain have been implemented for you, you need to add the statements that ***create a new block on top of previous_block, add it to the block chain, and edit previous block so that the for loop can continue correctly*** \n",
    "\n",
    "****HINT **** --> Literally just do all the things listed in the section immediately above in order \n",
    "\n",
    "If it works out, you should get the same number of print statements as num_blocks"
   ]
  },
  {
   "cell_type": "code",
   "execution_count": 13,
   "metadata": {},
   "outputs": [
    {
     "name": "stdout",
     "output_type": "stream",
     "text": [
      "Block #1 has been added to the blockchain!\n",
      "Hash: 298fbd05b11cc827d28d113a1a5f6da2ae521176b90aec95981d5f043d42e6cf\n",
      "\n",
      "Block #2 has been added to the blockchain!\n",
      "Hash: 67cb5761c2f8a6c19585b73799dace8b9a9ff3bd156b038083d3c779bbc08217\n",
      "\n",
      "Block #3 has been added to the blockchain!\n",
      "Hash: 545a33366b7d55ed111d1dea71d47aabb4428cbacebb1754c9eb4446f3f823be\n",
      "\n",
      "Block #4 has been added to the blockchain!\n",
      "Hash: 4bc598927f869c5a24a652d4ad97b20c4ecad2c6fe3e940b6cb7323fed201dff\n",
      "\n",
      "Block #5 has been added to the blockchain!\n",
      "Hash: d213ddee9d50e661b83d0a2cc28eda94e69e443cf03f17c9c1557bf2bdb2b449\n",
      "\n",
      "Block #6 has been added to the blockchain!\n",
      "Hash: da996c3e18e7f0715fec4ad49f0d5d144e948ea843fcb3ed62238f2f1276755f\n",
      "\n",
      "Block #7 has been added to the blockchain!\n",
      "Hash: dd952b999cb6ab452b67986bcd576acf95bc67eb0e20d48ece4b793b8805eedf\n",
      "\n",
      "Block #8 has been added to the blockchain!\n",
      "Hash: 0c3dd5ad9b10a784b23251c71a32a9b8fcc474e86c3b60e73c6cfbb16d4eacd4\n",
      "\n",
      "Block #9 has been added to the blockchain!\n",
      "Hash: 5d459d239b03a0e6398eab0b3d2fd3d5dd9f000bfa76b54bc23580767e288d71\n",
      "\n",
      "Block #10 has been added to the blockchain!\n",
      "Hash: 1f6d8ef5f2786b54ae0c7995d70cc329b418eac087fca40d6dd79560783688bd\n",
      "\n",
      "Block #11 has been added to the blockchain!\n",
      "Hash: 15e06ce5578d2b21b30e135cfd7cae941ef882026935518b53318884ae691f06\n",
      "\n",
      "Block #12 has been added to the blockchain!\n",
      "Hash: 0b2d83916544f552596c13839b7b00a26bc37365d779c51a5a3836c20a89c920\n",
      "\n",
      "Block #13 has been added to the blockchain!\n",
      "Hash: a7842b781042324354032889a6d0f3737a91f8523536404209810b9563f2fedc\n",
      "\n",
      "Block #14 has been added to the blockchain!\n",
      "Hash: 1f084d2622da6766082b619512d6714f6e5ef70465ddab56d946171f3434fcb4\n",
      "\n",
      "Block #15 has been added to the blockchain!\n",
      "Hash: 4e967cd29c2fd0c257e30ea706e9236bf7d942130f25276d54f9c32ec93bd6c5\n",
      "\n",
      "Block #16 has been added to the blockchain!\n",
      "Hash: 4c4400da30311f5b2f4ddabf1d230d35e789a207344d3aae6fc6b0f9e129c422\n",
      "\n",
      "Block #17 has been added to the blockchain!\n",
      "Hash: f793a4528572ae77531734d7c5982c88edc4dbdc46c209e2f2ced94b896c0152\n",
      "\n",
      "Block #18 has been added to the blockchain!\n",
      "Hash: 51fa8fe04aa34b829842a455822621afb1df518d9c189a315b234a8991528047\n",
      "\n",
      "Block #19 has been added to the blockchain!\n",
      "Hash: 1513d84ffc149ed76b9c5706954bb096cf8ca76b6a472afe4cf1f8054ce63089\n",
      "\n",
      "Block #20 has been added to the blockchain!\n",
      "Hash: 94a1856f76e68ab10b866729234a6b72bee8b819316a8b4bcc711e773a337f82\n",
      "\n"
     ]
    }
   ],
   "source": [
    "# Create the blockchain and add the genesis block\n",
    "blockchain = [create_genesis_block()]\n",
    "\n",
    "#Create our initial reference to previous block which points to the genesis block\n",
    "previous_block = blockchain[0]\n",
    "\n",
    "# How many blocks should we add to the chain after the genesis block\n",
    "num_blocks = 20\n",
    "\n",
    "def complete_chain(num_blocks, blockchain, previous_block):\n",
    "    # Add blocks to the chain\n",
    "    for i in range(0, num_blocks):\n",
    "        #Your code for QUESTION 3 Here\n",
    "        block_to_add = next_block(previous_block)\n",
    "        blockchain.append(block_to_add)\n",
    "        previous_block = block_to_add\n",
    "        \n",
    "        #Your code for QUESTION 3 ends Here\n",
    "        # Tell everyone about it!\n",
    "        print(\"Block #{} has been added to the blockchain!\".format(block_to_add.index))\n",
    "        print(\"Hash: {}\\n\".format(block_to_add.hash))\n",
    "\n",
    "complete_chain(num_blocks, blockchain, previous_block)"
   ]
  },
  {
   "cell_type": "markdown",
   "metadata": {},
   "source": [
    "**TEST YOUR QUESTION 3 CODE HERE**\n",
    "\n",
    "Run the block of code below"
   ]
  },
  {
   "cell_type": "code",
   "execution_count": 14,
   "metadata": {},
   "outputs": [
    {
     "name": "stdout",
     "output_type": "stream",
     "text": [
      "PASSED!!! Move on to the next Part\n"
     ]
    }
   ],
   "source": [
    "def test_question_3(blockchain, num_blocks):\n",
    "    correct = True\n",
    "    if len(blockchain) != num_blocks + 1:\n",
    "        correct = False\n",
    "    for i in range(len(blockchain)-1):\n",
    "        if blockchain[i + 1].previous_hash != blockchain[i].hash:\n",
    "            correct = False\n",
    "            break\n",
    "    print_statement = \"PASSED!!! Move on to the next Part\" if correct else \"FAILED!!! Try Again :(\"\n",
    "    print(print_statement)\n",
    "\n",
    "test_question_3(blockchain, num_blocks)"
   ]
  },
  {
   "cell_type": "markdown",
   "metadata": {},
   "source": [
    "# Proof of Work Simulation"
   ]
  },
  {
   "cell_type": "markdown",
   "metadata": {},
   "source": [
    "In this section we will be doing a simulation of the proof-of-work consensus mechanism that the Bitcoin Blockchain (among others) uses. Let us define some of the concepts that we will be dealing with in this section. \n",
    "\n",
    "**The Nonce** --> Randomly generated value that we add to our concatenation of our block to add variance to our hashes\n",
    "\n",
    "**Difficulty** --> Specified by the network (in theory, here it is specified by us). Defines the number of hashes that are valid out of all possible values. Higher difficulty indicates a lower number of valid hashes. \n",
    "\n",
    "**QUESTION 4: generate_nonce(), generate_difficulty_bound(), find_next_block()**\n",
    "\n",
    "**Part 1 - Description** \n",
    "\n",
    "The functions **generate_nonce()** and **generate_difficulty_bound()** have been implemented below for you. The first part of this question involves reading through, them understanding them completely, and writing a quick 1 - 2 line summary of what they are supposed to do and how they are implemented (write it in the space given, 2 cells below).\n",
    "\n",
    "**Part 2 - Implementation**\n",
    "\n",
    "The second part of this question is to complete the implementation of find_next_block(). This function's purpose is to try different blocks with the same data, index etc. but different nonces that satisfy the difficulty metric specified. The difficulty bound has already been generated for you and the first block has been created. You have to complete the implementation so that: \n",
    "- You find a nonce such that the hash of the block is less than the difficulty bound. \n",
    "- All data from new block has to be the same (including the timestamp, for simplicity purposes) and the only thing changing is the nonce \n",
    "- For our learning purposes, increment the hashes_tried parameter appropriately everytime you try a hash so that we can see the number of hashes tried and how this correlates to our difficulty value. \n",
    "\n",
    "**HINTS**\n",
    "- How do you turn a hash string into its hex prepresentation that you can compare???\n",
    "- if your implementation is working, you should notice something interesting about all the hashes of the blocks that you are getting when you run the code cell labeled \"Create Proof of work Blockchain\"**\n",
    "\n",
    "\n",
    "\n",
    "**you can test question 4 in the a few cells below this one, after running all the cells in between**"
   ]
  },
  {
   "cell_type": "code",
   "execution_count": 26,
   "metadata": {},
   "outputs": [],
   "source": [
    "import time\n",
    "\n",
    "def generate_nonce(length=20):\n",
    "    return ''.join([str(rand.randint(0, 9)) for i in range(length)])\n",
    "\n",
    "def generate_difficulty_bound(difficulty=1):\n",
    "    diff_str = \"\"\n",
    "    for i in range(difficulty):\n",
    "        diff_str += '0'\n",
    "    for i in range(64 - difficulty):\n",
    "        diff_str += 'F'\n",
    "    diff_str = \"0x\" + diff_str  # \"0x\" needs to be added at the front to specify that it is a hex representation\n",
    "    return(int(diff_str, 16))  # Specifies that we want to create an integer of base 16 (as opposed to the default base 10)\n",
    "\n",
    "#Given a previous block and a difficulty metric, finds a nonce that results in a lower hash value\n",
    "def find_next_block(last_block, difficulty, nonce_length):\n",
    "    difficulty_bound = generate_difficulty_bound(difficulty)\n",
    "    start = time.process_time() \n",
    "    new_block = next_block(last_block)\n",
    "    hashes_tried = 1 \n",
    "    #Your code for QUESTION 4 Starts here \n",
    "    while int(new_block.hash, 16) >=  difficulty_bound:\n",
    "        new_nonce = generate_nonce(nonce_length)\n",
    "        new_block = Block(new_block.index, new_block.timestamp, new_block.data, new_block.previous_hash, new_nonce)\n",
    "        hashes_tried +=1\n",
    "\n",
    "    #Your code for QUESTION 4 Ends here \n",
    "    time_taken = time.process_time() - start\n",
    "    return(time_taken, hashes_tried, new_block)"
   ]
  },
  {
   "cell_type": "markdown",
   "metadata": {},
   "source": [
    "**QUESTION 4 Description Section**\n",
    "\n",
    "Describe the following functions: \n",
    "\n",
    "- generate_nonce():         ######Your Description Here######\n",
    "    \n",
    "    \n",
    "\n",
    "- generate_difficulty_bound():        ######Your Description Here######"
   ]
  },
  {
   "cell_type": "markdown",
   "metadata": {},
   "source": [
    "The cell below creates our proof of work blockchain in a similar way that we do in the earlier section. \n",
    "\n",
    "Some initializations:\n",
    "- blockchain_pow: Our new python list that signifies our proof of work blockchain, with the genesis block inside\n",
    "- previous_block: The first block to use as previous block to build upon\n",
    "- num_blocks: number of additional blocks to add to teh chain\n",
    "- difficulty: difficulty of the network \n",
    "- nonce_length: length of the randomly generated nonce"
   ]
  },
  {
   "cell_type": "markdown",
   "metadata": {},
   "source": [
    "### Create Proof of Work Blockchain "
   ]
  },
  {
   "cell_type": "code",
   "execution_count": 27,
   "metadata": {},
   "outputs": [
    {
     "name": "stdout",
     "output_type": "stream",
     "text": [
      "Block #1 has been added to the blockchain!\n",
      "2624 Hashes Tried!\n",
      "Time taken to find block: 0.04312251400000022\n",
      "Hash: 000429dcebda4fe2cf510ce4ba89cb4945a8a7d12f0a3d99aea8d3d48e2c0ec3\n",
      "\n",
      "Block #2 has been added to the blockchain!\n",
      "571 Hashes Tried!\n",
      "Time taken to find block: 0.008832544000000553\n",
      "Hash: 000dcf8d49926a642a6d5960ce091ea0fb76d591d96bcdff656adb348b9e14c4\n",
      "\n",
      "Block #3 has been added to the blockchain!\n",
      "3869 Hashes Tried!\n",
      "Time taken to find block: 0.058690415999999246\n",
      "Hash: 000b7aca022a5e9f6b7f9d03aace3cb59868554ff656c93da2f05be5669395bf\n",
      "\n",
      "Block #4 has been added to the blockchain!\n",
      "194 Hashes Tried!\n",
      "Time taken to find block: 0.0029510439999995697\n",
      "Hash: 00065cd475e6afbd35e2b63ccc77bf728ded6386f189fb398c4cc4debb6a9a76\n",
      "\n",
      "Block #5 has been added to the blockchain!\n",
      "4448 Hashes Tried!\n",
      "Time taken to find block: 0.06794707999999972\n",
      "Hash: 0000ecfdbd01fdd40f22f6a0c2119c461b2b936153ff173a6bb3d86f4a17f9a5\n",
      "\n",
      "Block #6 has been added to the blockchain!\n",
      "1019 Hashes Tried!\n",
      "Time taken to find block: 0.015569097000000198\n",
      "Hash: 000b61d792c6cd2ca987c70ab677c79dcdfb5205b77f07012822fdbb09306b36\n",
      "\n",
      "Block #7 has been added to the blockchain!\n",
      "1562 Hashes Tried!\n",
      "Time taken to find block: 0.0240851409999987\n",
      "Hash: 0001b6d12f626bbc6fe9bddf870965639743a3a8820faee66435e90e9aa271b6\n",
      "\n",
      "Block #8 has been added to the blockchain!\n",
      "4682 Hashes Tried!\n",
      "Time taken to find block: 0.07107908600000101\n",
      "Hash: 00042a0ced4a8a87e02afb8a7edea611964acd9bc3871a211e15028d84d2c1b0\n",
      "\n",
      "Block #9 has been added to the blockchain!\n",
      "256 Hashes Tried!\n",
      "Time taken to find block: 0.0038108860000001243\n",
      "Hash: 000b0dd87e11bf6ffe8ce27ffa4c314053ae760ce568e35026792ff92e295f0d\n",
      "\n",
      "Block #10 has been added to the blockchain!\n",
      "3737 Hashes Tried!\n",
      "Time taken to find block: 0.05674575299999951\n",
      "Hash: 000b2f83cb8c17910eecda9851a4c1f797c93b5b3965da07895309324b7c1c0d\n",
      "\n",
      "Block #11 has been added to the blockchain!\n",
      "3012 Hashes Tried!\n",
      "Time taken to find block: 0.04496068799999975\n",
      "Hash: 000ef88eeb1fa1ab3b6c28e498987c7bcc79b9b4e5d8edb7e68a6d2f090fd595\n",
      "\n",
      "Block #12 has been added to the blockchain!\n",
      "427 Hashes Tried!\n",
      "Time taken to find block: 0.006645211000000373\n",
      "Hash: 0003251c52b4d06ddadda35c582f3b4b1a2f50c75866a18ef710279e91028a92\n",
      "\n",
      "Block #13 has been added to the blockchain!\n",
      "3674 Hashes Tried!\n",
      "Time taken to find block: 0.05498742400000012\n",
      "Hash: 00038562081ce900f8389933fbe9b1dbb1db068c4b2b1f8552eefa53d46894f4\n",
      "\n",
      "Block #14 has been added to the blockchain!\n",
      "254 Hashes Tried!\n",
      "Time taken to find block: 0.003868060000000284\n",
      "Hash: 000d39fdd8806c4916fba0d6594a80c3df4079c615ef40a5317e1c0c601f0199\n",
      "\n",
      "Block #15 has been added to the blockchain!\n",
      "3152 Hashes Tried!\n",
      "Time taken to find block: 0.04722707400000026\n",
      "Hash: 0008cef0f963db90f3eca0137fc9cb154f41b4dcb4066d4dca96d53834d8917e\n",
      "\n",
      "Block #16 has been added to the blockchain!\n",
      "8500 Hashes Tried!\n",
      "Time taken to find block: 0.12992461800000044\n",
      "Hash: 000a05652e98514a9b07a0b8070980ddcdbc751409df176dda0bd9ed220ac2a2\n",
      "\n",
      "Block #17 has been added to the blockchain!\n",
      "10029 Hashes Tried!\n",
      "Time taken to find block: 0.15060679500000163\n",
      "Hash: 000020ba9b898fd0dd30ed811a7a713c5e5aa7907fa1fbdcfb9d9068c0deaea4\n",
      "\n",
      "Block #18 has been added to the blockchain!\n",
      "8126 Hashes Tried!\n",
      "Time taken to find block: 0.12361526599999983\n",
      "Hash: 000c0d97455d7b473a1efeea5243e75ec87bccb136a1183f6a846be8a3299c1b\n",
      "\n",
      "Block #19 has been added to the blockchain!\n",
      "414 Hashes Tried!\n",
      "Time taken to find block: 0.006689001999999888\n",
      "Hash: 0000ff0adaa5f0f7c94a05dc91b9ccc688d5c919df97767f789ce09e1c10b098\n",
      "\n",
      "Block #20 has been added to the blockchain!\n",
      "2492 Hashes Tried!\n",
      "Time taken to find block: 0.0377040700000002\n",
      "Hash: 000b4c24b69a1cd76527b571b4519d93722ba149ccea89e1471a9a39b2367e99\n",
      "\n"
     ]
    }
   ],
   "source": [
    "# Create the blockchain and add the genesis block\n",
    "blockchain_pow = [create_genesis_block()]\n",
    "\n",
    "#Create our initial reference to previous block which points to the genesis block\n",
    "previous_block = blockchain_pow[0]\n",
    "\n",
    "# How many blocks should we add to the chain after genesis block\n",
    "num_blocks = 20\n",
    "\n",
    "#magnitude of difficulty of hash - number of zeroes that must be in the beginning of the hash\n",
    "difficulty = 3\n",
    "\n",
    "#length of nonce that will be generated and added\n",
    "nonce_length = 20\n",
    "\n",
    "# Add blocks to the chain based on difficulty with nonces of length nonce_length\n",
    "def create_pow_blockchain(num_blocks, difficulty, blockchain_pow, previous_block, nonce_length, print_data=1):\n",
    "    hash_array = []\n",
    "    time_array = []\n",
    "    for i in range(0, num_blocks):\n",
    "        time_taken, hashes_tried, block_to_add = find_next_block(previous_block, difficulty, nonce_length)\n",
    "        blockchain_pow.append(block_to_add)\n",
    "        previous_block = block_to_add\n",
    "        hash_array.append(hashes_tried)\n",
    "        time_array.append(time_taken)\n",
    "        # Tell everyone about it!\n",
    "        if print_data:\n",
    "            print(\"Block #{} has been added to the blockchain!\".format(block_to_add.index))\n",
    "            print(\"{} Hashes Tried!\".format(hashes_tried))\n",
    "            print(\"Time taken to find block: {}\".format(time_taken))\n",
    "            print(\"Hash: {}\\n\".format(block_to_add.hash))\n",
    "    return(hash_array, time_array)\n",
    "\n",
    "hash_array, time_array = create_pow_blockchain(num_blocks, difficulty, blockchain_pow, previous_block, nonce_length)"
   ]
  },
  {
   "cell_type": "markdown",
   "metadata": {},
   "source": [
    "**TEST YOUR QUESTION 4 CODE HERE**\n",
    "\n",
    "Run the block of code below"
   ]
  },
  {
   "cell_type": "code",
   "execution_count": 28,
   "metadata": {},
   "outputs": [
    {
     "name": "stdout",
     "output_type": "stream",
     "text": [
      "PASSED!!! Move on to the next Part\n"
     ]
    }
   ],
   "source": [
    "def test_question_4(blockchain_pow, num_blocks):\n",
    "    correct = True\n",
    "    bound = generate_difficulty_bound(difficulty)\n",
    "    if len(blockchain_pow) != num_blocks + 1:\n",
    "        correct = False\n",
    "    for i in range(len(blockchain_pow) - 1):\n",
    "        if blockchain_pow[i + 1].previous_hash != blockchain_pow[i].hash:\n",
    "            correct = False\n",
    "            break\n",
    "        if int(blockchain_pow[i + 1].hash, 16) > bound:\n",
    "            correct = False\n",
    "            break\n",
    "    print_statement = \"PASSED!!! Move on to the next Part\" if correct else \"FAILED!!! Try Again :(\"\n",
    "    print(print_statement)\n",
    "            \n",
    "test_question_4(blockchain_pow, num_blocks)"
   ]
  },
  {
   "cell_type": "markdown",
   "metadata": {},
   "source": [
    "Once you have passed the above test case, you can do things like play around with the difficulties and nonce lengths and seeing that happens "
   ]
  },
  {
   "cell_type": "markdown",
   "metadata": {},
   "source": [
    "# Note: The sections below are optional but super cool!"
   ]
  },
  {
   "cell_type": "markdown",
   "metadata": {},
   "source": [
    "# Distributed Network + Compute Power Simulation"
   ]
  },
  {
   "cell_type": "markdown",
   "metadata": {},
   "source": [
    "In this section, instead of simulating a single node that carries out all the proof of work calculations, we will create a bunch of different nodes that will all compete to find different blocks. These nodes will all have different compute powers that we will be able to specify. Below we will define the MinerNodeNaive class which has an init function to create an instance, as well as a try_hash function that allows it to try a hash and see if it works. "
   ]
  },
  {
   "cell_type": "code",
   "execution_count": 29,
   "metadata": {},
   "outputs": [],
   "source": [
    "#Naive miner class that races with other miners to see who can get a certain number of blocks first \n",
    "class MinerNodeNaive: \n",
    "    def __init__(self, name, compute):\n",
    "        self.name = name \n",
    "        self.compute = compute\n",
    "    \n",
    "    def try_hash(self, diff_value, chain):\n",
    "        last_block = chain[-1]\n",
    "        difficulty = generate_difficulty_bound(diff_value)\n",
    "        date_now = date.datetime.now()\n",
    "        this_index = last_block.index + 1\n",
    "        this_timestamp = date_now\n",
    "        this_data = \"Hey! I'm block \" + str(this_index)\n",
    "        this_hash = last_block.hash\n",
    "        new_block = Block(this_index, this_timestamp, this_data, this_hash)\n",
    "        if int(new_block.hash, 16) < difficulty:\n",
    "            chain.append(new_block)\n",
    "            # Tell everyone about it!\n",
    "            print(\"Block #{} has been added to the blockchain!\".format(new_block.index))\n",
    "            print(\"Block found by: {}\".format(self.name))\n",
    "            print(\"Hash: {}\\n\".format(new_block.hash))\n",
    "        "
   ]
  },
  {
   "cell_type": "markdown",
   "metadata": {},
   "source": [
    "**Question #5: Describe the Following Cells**\n",
    "\n",
    "In the next 4 cells I try to simulate a bunch of different miners with different compute powers. However this isn't completely indicative of how a real system works, and is limited by what I had to work with. Read through the code, and run all of the cells and explain what is happening in a paragrpah. Also explain how this is different from real world vanilla proof of work systems and how this simulation isn't completely accurate of what's actually happening while nodes race to find the next block. There is a cell at the bottom where you can enter your description.  "
   ]
  },
  {
   "cell_type": "code",
   "execution_count": 30,
   "metadata": {},
   "outputs": [],
   "source": [
    "#Initialize multiple miners on the network \n",
    "berkeley_Miner = MinerNodeNaive(\"Berkeley Miner\", 10)\n",
    "stanford_Miner = MinerNodeNaive(\"Stanford Miner\", 5)\n",
    "MIT_Miner = MinerNodeNaive(\"MIT Miner\", 2)\n",
    "UCLA_Miner = MinerNodeNaive(\"UCLA Miner\", 1)\n",
    "\n",
    "miner_array = [berkeley_Miner, stanford_Miner, MIT_Miner, UCLA_Miner]"
   ]
  },
  {
   "cell_type": "markdown",
   "metadata": {},
   "source": [
    "*Initial a list of computer that is to verify the new block chain or in a diffirent way is Proof of Work (PoW)"
   ]
  },
  {
   "cell_type": "code",
   "execution_count": 34,
   "metadata": {},
   "outputs": [],
   "source": [
    "def create_compute_simulation(miner_array):\n",
    "    compute_array = []\n",
    "    for miner in miner_array:\n",
    "        for i in range(miner.compute):\n",
    "            compute_array.append(miner.name)\n",
    "    return(compute_array)\n",
    "\n",
    "compute_simulation_array = create_compute_simulation(miner_array)\n",
    "rand.shuffle(compute_simulation_array)"
   ]
  },
  {
   "cell_type": "code",
   "execution_count": 37,
   "metadata": {},
   "outputs": [
    {
     "name": "stdout",
     "output_type": "stream",
     "text": [
      "['Berkeley Miner']\n",
      "['Berkeley Miner', 'Berkeley Miner']\n",
      "['Berkeley Miner', 'Berkeley Miner', 'Berkeley Miner']\n",
      "['Berkeley Miner', 'Berkeley Miner', 'Berkeley Miner', 'Berkeley Miner']\n",
      "['Berkeley Miner', 'Berkeley Miner', 'Berkeley Miner', 'Berkeley Miner', 'Berkeley Miner']\n",
      "['Berkeley Miner', 'Berkeley Miner', 'Berkeley Miner', 'Berkeley Miner', 'Berkeley Miner', 'Berkeley Miner']\n",
      "['Berkeley Miner', 'Berkeley Miner', 'Berkeley Miner', 'Berkeley Miner', 'Berkeley Miner', 'Berkeley Miner', 'Berkeley Miner']\n",
      "['Berkeley Miner', 'Berkeley Miner', 'Berkeley Miner', 'Berkeley Miner', 'Berkeley Miner', 'Berkeley Miner', 'Berkeley Miner', 'Berkeley Miner']\n",
      "['Berkeley Miner', 'Berkeley Miner', 'Berkeley Miner', 'Berkeley Miner', 'Berkeley Miner', 'Berkeley Miner', 'Berkeley Miner', 'Berkeley Miner', 'Berkeley Miner']\n",
      "['Berkeley Miner', 'Berkeley Miner', 'Berkeley Miner', 'Berkeley Miner', 'Berkeley Miner', 'Berkeley Miner', 'Berkeley Miner', 'Berkeley Miner', 'Berkeley Miner', 'Berkeley Miner']\n",
      "['Berkeley Miner', 'Berkeley Miner', 'Berkeley Miner', 'Berkeley Miner', 'Berkeley Miner', 'Berkeley Miner', 'Berkeley Miner', 'Berkeley Miner', 'Berkeley Miner', 'Berkeley Miner', 'Stanford Miner']\n",
      "['Berkeley Miner', 'Berkeley Miner', 'Berkeley Miner', 'Berkeley Miner', 'Berkeley Miner', 'Berkeley Miner', 'Berkeley Miner', 'Berkeley Miner', 'Berkeley Miner', 'Berkeley Miner', 'Stanford Miner', 'Stanford Miner']\n",
      "['Berkeley Miner', 'Berkeley Miner', 'Berkeley Miner', 'Berkeley Miner', 'Berkeley Miner', 'Berkeley Miner', 'Berkeley Miner', 'Berkeley Miner', 'Berkeley Miner', 'Berkeley Miner', 'Stanford Miner', 'Stanford Miner', 'Stanford Miner']\n",
      "['Berkeley Miner', 'Berkeley Miner', 'Berkeley Miner', 'Berkeley Miner', 'Berkeley Miner', 'Berkeley Miner', 'Berkeley Miner', 'Berkeley Miner', 'Berkeley Miner', 'Berkeley Miner', 'Stanford Miner', 'Stanford Miner', 'Stanford Miner', 'Stanford Miner']\n",
      "['Berkeley Miner', 'Berkeley Miner', 'Berkeley Miner', 'Berkeley Miner', 'Berkeley Miner', 'Berkeley Miner', 'Berkeley Miner', 'Berkeley Miner', 'Berkeley Miner', 'Berkeley Miner', 'Stanford Miner', 'Stanford Miner', 'Stanford Miner', 'Stanford Miner', 'Stanford Miner']\n",
      "['Berkeley Miner', 'Berkeley Miner', 'Berkeley Miner', 'Berkeley Miner', 'Berkeley Miner', 'Berkeley Miner', 'Berkeley Miner', 'Berkeley Miner', 'Berkeley Miner', 'Berkeley Miner', 'Stanford Miner', 'Stanford Miner', 'Stanford Miner', 'Stanford Miner', 'Stanford Miner', 'MIT Miner']\n",
      "['Berkeley Miner', 'Berkeley Miner', 'Berkeley Miner', 'Berkeley Miner', 'Berkeley Miner', 'Berkeley Miner', 'Berkeley Miner', 'Berkeley Miner', 'Berkeley Miner', 'Berkeley Miner', 'Stanford Miner', 'Stanford Miner', 'Stanford Miner', 'Stanford Miner', 'Stanford Miner', 'MIT Miner', 'MIT Miner']\n",
      "['Berkeley Miner', 'Berkeley Miner', 'Berkeley Miner', 'Berkeley Miner', 'Berkeley Miner', 'Berkeley Miner', 'Berkeley Miner', 'Berkeley Miner', 'Berkeley Miner', 'Berkeley Miner', 'Stanford Miner', 'Stanford Miner', 'Stanford Miner', 'Stanford Miner', 'Stanford Miner', 'MIT Miner', 'MIT Miner', 'UCLA Miner']\n",
      "\n",
      "['Berkeley Miner', 'Berkeley Miner', 'Berkeley Miner', 'Berkeley Miner', 'Berkeley Miner', 'Berkeley Miner', 'Berkeley Miner', 'Berkeley Miner', 'Berkeley Miner', 'Berkeley Miner', 'Stanford Miner', 'Stanford Miner', 'Stanford Miner', 'Stanford Miner', 'Stanford Miner', 'MIT Miner', 'MIT Miner', 'UCLA Miner']\n",
      "['MIT Miner', 'Stanford Miner', 'Stanford Miner', 'Berkeley Miner', 'Berkeley Miner', 'Berkeley Miner', 'Berkeley Miner', 'Stanford Miner', 'Berkeley Miner', 'Berkeley Miner', 'UCLA Miner', 'Berkeley Miner', 'Berkeley Miner', 'Berkeley Miner', 'Stanford Miner', 'Stanford Miner', 'MIT Miner', 'Berkeley Miner']\n"
     ]
    }
   ],
   "source": [
    "def create_compute_simulation1(miner_array):\n",
    "    compute_array = []\n",
    "    for miner in miner_array:\n",
    "        for i in range(miner.compute):\n",
    "            compute_array.append(miner.name)\n",
    "            print(compute_array)\n",
    "    return(compute_array)\n",
    "\n",
    "compute_simulation_array1 = create_compute_simulation1(miner_array)\n",
    "print()\n",
    "print(compute_simulation_array1)\n",
    "rand.shuffle(compute_simulation_array1)\n",
    "print(compute_simulation_array1)"
   ]
  },
  {
   "cell_type": "markdown",
   "metadata": {},
   "source": [
    "*Create a array contains all computations which miner has. For example, Miner A has 5 computers, so he should have 5 computations in a pararrell compares with others"
   ]
  },
  {
   "cell_type": "code",
   "execution_count": 38,
   "metadata": {},
   "outputs": [],
   "source": [
    "chain_length = 20\n",
    "blockchain_distributed = [create_genesis_block()]\n",
    "genesis_block_dist = blockchain_distributed[0]\n",
    "chain_difficulty = [rand.randint(2,4) for i in range(chain_length)]"
   ]
  },
  {
   "cell_type": "code",
   "execution_count": 40,
   "metadata": {},
   "outputs": [
    {
     "name": "stdout",
     "output_type": "stream",
     "text": [
      "chain_difficulty:  [4, 4, 3, 4, 2, 4, 4, 3, 3, 3, 4, 4, 2, 2, 2, 3, 2, 3, 2, 4]\n"
     ]
    }
   ],
   "source": [
    "print(\"chain_difficulty: \" , chain_difficulty)"
   ]
  },
  {
   "cell_type": "code",
   "execution_count": 46,
   "metadata": {},
   "outputs": [
    {
     "name": "stdout",
     "output_type": "stream",
     "text": [
      "blockchain_distributed:  [<__main__.Block object at 0x7fe017ecc5e0>]\n"
     ]
    }
   ],
   "source": [
    "print(\"blockchain_distributed: \", blockchain_distributed)"
   ]
  },
  {
   "cell_type": "code",
   "execution_count": 47,
   "metadata": {},
   "outputs": [
    {
     "name": "stdout",
     "output_type": "stream",
     "text": [
      "Block #1 has been added to the blockchain!\n",
      "Block found by: Stanford Miner\n",
      "Hash: 000029f8c2056cd32ed982c379c5e7998697ef15fc26b51888fc1281ac6ea6b5\n",
      "\n",
      "Block #2 has been added to the blockchain!\n",
      "Block found by: Berkeley Miner\n",
      "Hash: 0000380e01300772ca828730e4c2e4668a8b45011d03f2bea0dcdef2148a329c\n",
      "\n",
      "Block #3 has been added to the blockchain!\n",
      "Block found by: Berkeley Miner\n",
      "Hash: 000c9914fb0c90b201b85f8a91fdbfeda281932d0942967f4d30da190bbb2eed\n",
      "\n",
      "Block #4 has been added to the blockchain!\n",
      "Block found by: Berkeley Miner\n",
      "Hash: 00003739ead9a61d2b45c55027d0f2ad01a7aabaa1946ff5be3971e3161a75e3\n",
      "\n",
      "Block #5 has been added to the blockchain!\n",
      "Block found by: Berkeley Miner\n",
      "Hash: 00a379720a8890703ae60b5c745dd3ab31c61902b452b008e14a1f795f965e0e\n",
      "\n",
      "Block #6 has been added to the blockchain!\n",
      "Block found by: Berkeley Miner\n",
      "Hash: 0000cf501bfd84e7c88cc1d78abd93d917fa1510982cca34eee0e90bc0df1f78\n",
      "\n",
      "Block #7 has been added to the blockchain!\n",
      "Block found by: Berkeley Miner\n",
      "Hash: 00007e6e6f96c506e8df4e2f8c184a09d129b190ff73c567e45941201f9e6bb4\n",
      "\n",
      "Block #8 has been added to the blockchain!\n",
      "Block found by: Berkeley Miner\n",
      "Hash: 00062326f6b842b7cd06202d87f19a8f0ffd90a198b6c5ef28a3b3ba5e9674d9\n",
      "\n",
      "Block #9 has been added to the blockchain!\n",
      "Block found by: Berkeley Miner\n",
      "Hash: 00042d51532fa8ff87371f00e718e82a2537cf385bc2a5eeb496b2e94fb9a499\n",
      "\n",
      "Block #10 has been added to the blockchain!\n",
      "Block found by: Stanford Miner\n",
      "Hash: 000710cb22d96e144b1607a0399f4a6c3c164859037f08e8f0799f57c379cce6\n",
      "\n",
      "Block #11 has been added to the blockchain!\n",
      "Block found by: Berkeley Miner\n",
      "Hash: 0000f3039d78392cd1c04ffb38e7de70715af2261954f05227c1ac2441b22c16\n",
      "\n",
      "Block #12 has been added to the blockchain!\n",
      "Block found by: Stanford Miner\n",
      "Hash: 000016c8e4ea960ce15de9d89eb950b677060a274d5837c8ddf6ff9311011b0a\n",
      "\n",
      "Block #13 has been added to the blockchain!\n",
      "Block found by: UCLA Miner\n",
      "Hash: 00be5e8e939041aa298f893971680459a5223951a5dc58e64d22ee8edd13378c\n",
      "\n",
      "Block #14 has been added to the blockchain!\n",
      "Block found by: MIT Miner\n",
      "Hash: 00f32525d328e57b0fc5b5a5cb1fa1e4633b706f12a6edc9801d858a853934bd\n",
      "\n",
      "Block #15 has been added to the blockchain!\n",
      "Block found by: Stanford Miner\n",
      "Hash: 0080758da22d3ad852c8f617dd0bf904eecff93eaceca21413f5fe926530ff1d\n",
      "\n",
      "Block #16 has been added to the blockchain!\n",
      "Block found by: UCLA Miner\n",
      "Hash: 00029a680e45b9d135ea354325858af841224a91d0cc7abe5c56e06dec9c3b7b\n",
      "\n",
      "Block #17 has been added to the blockchain!\n",
      "Block found by: Berkeley Miner\n",
      "Hash: 001966dcb924991c0ecad861ac2a7f1f69ba0487f0d0f43f0ea05a60733e6098\n",
      "\n",
      "Block #18 has been added to the blockchain!\n",
      "Block found by: Stanford Miner\n",
      "Hash: 0002f597ab2e5c44d8e10a5970354b850bfeb27a6212da42f6aade58cab0d3d5\n",
      "\n",
      "Block #19 has been added to the blockchain!\n",
      "Block found by: Berkeley Miner\n",
      "Hash: 00243db8364e9099ab5abffac6f72f5c8d83099bbc55b06aa6dbe5047019db83\n",
      "\n",
      "Block #20 has been added to the blockchain!\n",
      "Block found by: Berkeley Miner\n",
      "Hash: 000068f190ea91735c2e059c916de94ac307e59e607710b6dde4631acf530f3e\n",
      "\n"
     ]
    }
   ],
   "source": [
    "for i in range(len(chain_difficulty)): \n",
    "    while len(blockchain_distributed) < i + 2:\n",
    "        next_miner_str = rand.sample(compute_simulation_array, 1)[0] \n",
    "        next_miner = berkeley_Miner #random default (go bears)\n",
    "        for miner in miner_array:\n",
    "            if next_miner_str == miner.name:\n",
    "                next_miner = miner\n",
    "        next_miner.try_hash(chain_difficulty[i], blockchain_distributed)\n",
    "        "
   ]
  },
  {
   "cell_type": "markdown",
   "metadata": {},
   "source": [
    "**Question 5 Description Here**\n",
    "\n",
    "- Description: **#####Your description here####**"
   ]
  },
  {
   "cell_type": "markdown",
   "metadata": {},
   "source": [
    "# Blockchain Data Analytics"
   ]
  },
  {
   "cell_type": "markdown",
   "metadata": {},
   "source": [
    "Here we will use data analytics to analyze the number of hashes we need to try before we find a valid hash, given a difficulty level. Look through the code briefly (in depth is not necessary), run all of the cells, and answer the question at the bottom. (difficulty level 3 takes a bit of time so dont be alarmed if this next cell takes a bit of time to run). "
   ]
  },
  {
   "cell_type": "code",
   "execution_count": 48,
   "metadata": {},
   "outputs": [
    {
     "name": "stdout",
     "output_type": "stream",
     "text": [
      "Difficulty Level: 1 complete\n",
      "Difficulty Level: 2 complete\n",
      "Difficulty Level: 3 complete\n",
      "Difficulty Level: 4 complete\n"
     ]
    }
   ],
   "source": [
    "blockchain = [create_genesis_block()]\n",
    "previous_block = blockchain[0]\n",
    "num_blocks = 10\n",
    "\n",
    "#3 different types of difficulty to analyze\n",
    "difficulty_0 = 1\n",
    "difficulty_1 = 2\n",
    "difficulty_2 = 3\n",
    "difficulty_3 = 4\n",
    "\n",
    "nonce_length = 20\n",
    "\n",
    "hash_array_0, time_array_0 = create_pow_blockchain(num_blocks, difficulty_0, blockchain, previous_block, nonce_length, 0)\n",
    "print(\"Difficulty Level: {} complete\".format(difficulty_0))\n",
    "hash_array_1, time_array_1 = create_pow_blockchain(num_blocks, difficulty_1, blockchain, previous_block, nonce_length, 0)\n",
    "print(\"Difficulty Level: {} complete\".format(difficulty_1))\n",
    "hash_array_2, time_array_2 = create_pow_blockchain(num_blocks, difficulty_2, blockchain, previous_block, nonce_length, 0)\n",
    "print(\"Difficulty Level: {} complete\".format(difficulty_2))\n",
    "hash_array_3, time_array_3 = create_pow_blockchain(num_blocks, difficulty_3, blockchain, previous_block, nonce_length, 0)\n",
    "print(\"Difficulty Level: {} complete\".format(difficulty_3))"
   ]
  },
  {
   "cell_type": "code",
   "execution_count": 49,
   "metadata": {},
   "outputs": [],
   "source": [
    "mean_arr_hash = [np.mean(hash_array_0), np.mean(hash_array_1), np.mean(hash_array_2), np.mean(hash_array_3)]\n",
    "mean_arr_time = [np.mean(time_array_0), np.mean(time_array_1), np.mean(time_array_2), np.mean(time_array_3)]"
   ]
  },
  {
   "cell_type": "code",
   "execution_count": 50,
   "metadata": {},
   "outputs": [
    {
     "data": {
      "image/png": "[encoded data removed]",
      "text/plain": [
       "<Figure size 432x288 with 1 Axes>"
      ]
     },
     "metadata": {
      "needs_background": "light"
     },
     "output_type": "display_data"
    }
   ],
   "source": [
    "plt.plot(mean_arr_hash)\n",
    "plt.show()"
   ]
  },
  {
   "cell_type": "code",
   "execution_count": 51,
   "metadata": {},
   "outputs": [
    {
     "data": {
      "image/png": "[encoded data removed]",
      "text/plain": [
       "<Figure size 432x288 with 1 Axes>"
      ]
     },
     "metadata": {
      "needs_background": "light"
     },
     "output_type": "display_data"
    }
   ],
   "source": [
    "plt.plot(mean_arr_time)\n",
    "plt.show()"
   ]
  },
  {
   "cell_type": "code",
   "execution_count": 52,
   "metadata": {},
   "outputs": [
    {
     "name": "stdout",
     "output_type": "stream",
     "text": [
      "Factor of difficulty increase from 1 to 2: 10.957317073170731\n",
      "Factor of difficulty increase from 2 to 3: 33.17751808569839\n",
      "Factor of difficulty increase from 3 to 4: 13.014827239181482\n"
     ]
    }
   ],
   "source": [
    "diff_factor_1 = np.mean(hash_array_1)/np.mean(hash_array_0)\n",
    "diff_factor_2 = np.mean(hash_array_2)/np.mean(hash_array_1)\n",
    "diff_factor_3 = np.mean(hash_array_3)/np.mean(hash_array_2)\n",
    "print(\"Factor of difficulty increase from 1 to 2: {}\".format(diff_factor_1))\n",
    "print(\"Factor of difficulty increase from 2 to 3: {}\".format(diff_factor_2))\n",
    "print(\"Factor of difficulty increase from 3 to 4: {}\".format(diff_factor_3))"
   ]
  },
  {
   "cell_type": "markdown",
   "metadata": {},
   "source": [
    "**Question 6: This one is simple**\n",
    "\n",
    "Look at the factor of difficulty increase from each level to the subsequent level, printed from the cell above.\n",
    "\n",
    "What whould the factor of difficulty increase be for each level: **Your answer Here**"
   ]
  },
  {
   "cell_type": "markdown",
   "metadata": {},
   "source": [
    "**Check Off**\n",
    "\n",
    "If you have filled out all the skeleton code and put down your answers for the questions, let any of the instructor know and we will check you off!\n",
    "\n",
    "If you cannot finish it this class, you have until next week's class to finish check off and earn points.\n"
   ]
  }
 ],
 "metadata": {
  "kernelspec": {
   "display_name": "venv",
   "language": "python",
   "name": "venv"
  },
  "language_info": {
   "codemirror_mode": {
    "name": "ipython",
    "version": 3
   },
   "file_extension": ".py",
   "mimetype": "text/x-python",
   "name": "python",
   "nbconvert_exporter": "python",
   "pygments_lexer": "ipython3",
   "version": "3.9.7"
  }
 },
 "nbformat": 4,
 "nbformat_minor": 4
}
